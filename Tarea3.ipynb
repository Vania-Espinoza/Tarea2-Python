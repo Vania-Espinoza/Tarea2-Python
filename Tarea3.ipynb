{
 "cells": [
  {
   "cell_type": "markdown",
   "metadata": {},
   "source": [
    "# Tarea 3\n",
    "## *Visualización de Datos con Python*"
   ]
  },
  {
   "cell_type": "code",
   "execution_count": 15,
   "metadata": {},
   "outputs": [],
   "source": [
    "#importamos librerias a usar\n",
    "import pandas as pd\n",
    "import numpy as np\n",
    "import matplotlib as mpl\n",
    "import matplotlib.pyplot as plt"
   ]
  },
  {
   "cell_type": "markdown",
   "metadata": {},
   "source": [
    "### Cargamos los datos procesados de la tarea anterior\n"
   ]
  },
  {
   "cell_type": "code",
   "execution_count": 16,
   "metadata": {},
   "outputs": [],
   "source": [
    "df = pd.read_csv(\"surveys.csv\")"
   ]
  },
  {
   "cell_type": "markdown",
   "metadata": {},
   "source": [
    "## El Conjunto de Datos: Observaciones a Animales\n",
    "Nuestro conjunto de datos contiene la especie, el sexo, el tamaño de pata en milimetros y peso en gramos de aves vistas en un sitio en particular en una fecha especifica.\n",
    "Los registros datan desde el año 1977 hasta el año 2002.\n",
    "Se describen 24 especies diferentes de aves en 24 areas diferentes.\n",
    "\n",
    "**A partir de estos datos generaremos 5 graficos.**"
   ]
  },
  {
   "cell_type": "markdown",
   "metadata": {},
   "source": [
    "### Grafico 1\n",
    "Utilizaremos un grafico de lineas para representar las tendencias que tienen la 5 especies de aves mas frecuente ( *DM* ; *PP* ; *DO* ; *PB* ; *RM* ) entre los años 1977 y 2002"
   ]
  },
  {
   "cell_type": "code",
   "execution_count": 66,
   "metadata": {},
   "outputs": [
    {
     "data": {
      "text/html": [
       "<div>\n",
       "<style scoped>\n",
       "    .dataframe tbody tr th:only-of-type {\n",
       "        vertical-align: middle;\n",
       "    }\n",
       "\n",
       "    .dataframe tbody tr th {\n",
       "        vertical-align: top;\n",
       "    }\n",
       "\n",
       "    .dataframe thead tr th {\n",
       "        text-align: left;\n",
       "    }\n",
       "</style>\n",
       "<table border=\"1\" class=\"dataframe\">\n",
       "  <thead>\n",
       "    <tr>\n",
       "      <th>year</th>\n",
       "      <th colspan=\"4\" halign=\"left\">1977</th>\n",
       "      <th colspan=\"4\" halign=\"left\">1978</th>\n",
       "      <th colspan=\"2\" halign=\"left\">1979</th>\n",
       "      <th>...</th>\n",
       "      <th colspan=\"5\" halign=\"left\">2001</th>\n",
       "      <th colspan=\"5\" halign=\"left\">2002</th>\n",
       "    </tr>\n",
       "    <tr>\n",
       "      <th>species_id</th>\n",
       "      <th>DM</th>\n",
       "      <th>DO</th>\n",
       "      <th>PP</th>\n",
       "      <th>RM</th>\n",
       "      <th>DM</th>\n",
       "      <th>PP</th>\n",
       "      <th>DO</th>\n",
       "      <th>RM</th>\n",
       "      <th>DM</th>\n",
       "      <th>DO</th>\n",
       "      <th>...</th>\n",
       "      <th>PB</th>\n",
       "      <th>DM</th>\n",
       "      <th>PP</th>\n",
       "      <th>DO</th>\n",
       "      <th>RM</th>\n",
       "      <th>PB</th>\n",
       "      <th>PP</th>\n",
       "      <th>DM</th>\n",
       "      <th>DO</th>\n",
       "      <th>RM</th>\n",
       "    </tr>\n",
       "  </thead>\n",
       "  <tbody>\n",
       "    <tr>\n",
       "      <th>Avistamientos</th>\n",
       "      <td>184</td>\n",
       "      <td>12</td>\n",
       "      <td>3</td>\n",
       "      <td>2</td>\n",
       "      <td>352</td>\n",
       "      <td>23</td>\n",
       "      <td>22</td>\n",
       "      <td>2</td>\n",
       "      <td>205</td>\n",
       "      <td>29</td>\n",
       "      <td>...</td>\n",
       "      <td>522</td>\n",
       "      <td>294</td>\n",
       "      <td>259</td>\n",
       "      <td>77</td>\n",
       "      <td>15</td>\n",
       "      <td>868</td>\n",
       "      <td>376</td>\n",
       "      <td>303</td>\n",
       "      <td>243</td>\n",
       "      <td>20</td>\n",
       "    </tr>\n",
       "  </tbody>\n",
       "</table>\n",
       "<p>1 rows × 112 columns</p>\n",
       "</div>"
      ],
      "text/plain": [
       "year          1977           1978            1979      ... 2001                \\\n",
       "species_id      DM  DO PP RM   DM  PP  DO RM   DM  DO  ...   PB   DM   PP  DO   \n",
       "Avistamientos  184  12  3  2  352  23  22  2  205  29  ...  522  294  259  77   \n",
       "\n",
       "year              2002                     \n",
       "species_id     RM   PB   PP   DM   DO  RM  \n",
       "Avistamientos  15  868  376  303  243  20  \n",
       "\n",
       "[1 rows x 112 columns]"
      ]
     },
     "execution_count": 66,
     "metadata": {},
     "output_type": "execute_result"
    }
   ],
   "source": [
    "df_aux = df[['year','species_id']]\n",
    "condicion = ((df_aux['species_id'] == 'DM') | (df_aux['species_id'] == 'PP') | (df_aux['species_id'] == 'DO') | (df_aux['species_id'] == 'PB') | (df_aux['species_id'] == 'RM'))\n",
    "lista_años = df_aux['year'].unique().tolist()\n",
    "df_l = df_aux[condicion].groupby('year')['species_id'].value_counts().to_frame()\n",
    "df_l.columns = ['Avistamientos']\n",
    "df_l = df_l.transpose()\n",
    "df_l"
   ]
  },
  {
   "cell_type": "markdown",
   "metadata": {},
   "source": [
    "### Grafico 2\n"
   ]
  },
  {
   "cell_type": "markdown",
   "metadata": {},
   "source": [
    "### Grafico 3"
   ]
  },
  {
   "cell_type": "markdown",
   "metadata": {},
   "source": [
    "### Grafico 4"
   ]
  },
  {
   "cell_type": "markdown",
   "metadata": {},
   "source": [
    "### Grafico 5"
   ]
  }
 ],
 "metadata": {
  "interpreter": {
   "hash": "fe493dd6f4b356067ba7a6a6a792db6cb1a034e5445612d7434c018603d8cf2d"
  },
  "kernelspec": {
   "display_name": "Python 3.9.7 ('base')",
   "language": "python",
   "name": "python3"
  },
  "language_info": {
   "codemirror_mode": {
    "name": "ipython",
    "version": 3
   },
   "file_extension": ".py",
   "mimetype": "text/x-python",
   "name": "python",
   "nbconvert_exporter": "python",
   "pygments_lexer": "ipython3",
   "version": "3.9.7"
  },
  "orig_nbformat": 4
 },
 "nbformat": 4,
 "nbformat_minor": 2
}
