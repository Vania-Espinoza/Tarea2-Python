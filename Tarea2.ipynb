{
 "cells": [
  {
   "cell_type": "markdown",
   "metadata": {},
   "source": [
    "# *Tarea 2*\n",
    "\n",
    "## *Objetivos:*\n",
    "1. Seleccionar un conjunto de datos de algun repositorio publico o de alguna fuente propia.\n",
    "2. Cargar los datos desde la fuente en su respectivo formato a un dataframe.\n",
    "3. Limpiar y formatear los datos de entrada.\n",
    "4. Guardar el conjuto de datos procesado."
   ]
  },
  {
   "cell_type": "markdown",
   "metadata": {},
   "source": [
    "Primero debemos seleccionar un conjunto de datos de cualquier fuente, como equipo seleccionamos una base de datos de una pagina que ya daba ejemplos de su uso. De esta forma nos aseguramos de su utilidad.\n",
    "- Fuente de datos: https://ndownloader.figshare.com/files/2292172\n",
    "- Tipo de dato: csv"
   ]
  },
  {
   "cell_type": "markdown",
   "metadata": {},
   "source": [
    "*Cabe destacar que nuestros datos son tomados para el estudiar la especie y el peso de los animales capturados en sitios dentro de un area de estudio.*"
   ]
  },
  {
   "cell_type": "markdown",
   "metadata": {},
   "source": [
    "Luego para la lectura y el procesamiento de datos usaremos las bibliotecas de pandas y numpy por lo que necesitaremos importarlas"
   ]
  },
  {
   "cell_type": "code",
   "execution_count": 88,
   "metadata": {},
   "outputs": [],
   "source": [
    "import pandas as pd\n",
    "import numpy as np"
   ]
  },
  {
   "cell_type": "markdown",
   "metadata": {},
   "source": [
    "Ahora debemos leer el archivo para su posterior procesamiento."
   ]
  },
  {
   "cell_type": "code",
   "execution_count": 89,
   "metadata": {},
   "outputs": [],
   "source": [
    "ubicacion = \"surveys.csv\"\n",
    "df = pd.read_csv(ubicacion)"
   ]
  },
  {
   "cell_type": "markdown",
   "metadata": {},
   "source": [
    "Si bien sabemos que tiene encaezado lo comprobaremos para efectos practicos de la tarea."
   ]
  },
  {
   "cell_type": "code",
   "execution_count": 90,
   "metadata": {},
   "outputs": [
    {
     "name": "stdout",
     "output_type": "stream",
     "text": [
      "True\n"
     ]
    }
   ],
   "source": [
    "#Retorta True si posee encabezado y false en caso contrario\n",
    "Lista_de_columnas = df.columns.values.tolist()\n",
    "for x in range(len(Lista_de_columnas)):\n",
    "    if(Lista_de_columnas[x]!=x):\n",
    "        print(\"True\")\n",
    "        break"
   ]
  }
 ],
 "metadata": {
  "interpreter": {
   "hash": "b3ba2566441a7c06988d0923437866b63cedc61552a5af99d1f4fb67d367b25f"
  },
  "kernelspec": {
   "display_name": "Python 3.9.7 ('base')",
   "language": "python",
   "name": "python3"
  },
  "language_info": {
   "codemirror_mode": {
    "name": "ipython",
    "version": 3
   },
   "file_extension": ".py",
   "mimetype": "text/x-python",
   "name": "python",
   "nbconvert_exporter": "python",
   "pygments_lexer": "ipython3",
   "version": "3.9.7"
  },
  "orig_nbformat": 4
 },
 "nbformat": 4,
 "nbformat_minor": 2
}
