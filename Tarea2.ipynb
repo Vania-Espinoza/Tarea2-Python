{
 "cells": [
  {
   "cell_type": "markdown",
   "metadata": {},
   "source": [
    "Vania Espinoza Jara - Franco Paredes Pardo"
   ]
  },
  {
   "cell_type": "markdown",
   "metadata": {},
   "source": [
    "# *Tarea 2*\n",
    "\n",
    "## *Objetivos:*\n",
    "1. Seleccionar un conjunto de datos de algun repositorio publico o de alguna fuente propia.\n",
    "2. Cargar los datos desde la fuente en su respectivo formato a un dataframe.\n",
    "3. Limpiar y formatear los datos de entrada.\n",
    "4. Guardar el conjuto de datos procesado."
   ]
  },
  {
   "cell_type": "markdown",
   "metadata": {},
   "source": [
    "Primero debemos seleccionar un conjunto de datos de cualquier fuente, como equipo seleccionamos una base de datos de una pagina que ya daba ejemplos de su uso. De esta forma nos aseguramos de su utilidad.\n",
    "- Fuente de datos: https://ndownloader.figshare.com/files/2292172\n",
    "- Tipo de dato: csv"
   ]
  },
  {
   "cell_type": "markdown",
   "metadata": {},
   "source": [
    "*Cabe destacar que nuestros datos son tomados para el estudiar la especie y el peso de los animales capturados en sitios dentro de un area de estudio.*"
   ]
  },
  {
   "cell_type": "markdown",
   "metadata": {},
   "source": [
    "Luego para la lectura y el procesamiento de datos usaremos las bibliotecas de pandas y numpy por lo que necesitaremos importarlas"
   ]
  },
  {
   "cell_type": "code",
   "execution_count": 4,
   "metadata": {},
   "outputs": [
    {
     "ename": "ModuleNotFoundError",
     "evalue": "No module named 'pandas'",
     "output_type": "error",
     "traceback": [
      "\u001b[1;31m---------------------------------------------------------------------------\u001b[0m",
      "\u001b[1;31mModuleNotFoundError\u001b[0m                       Traceback (most recent call last)",
      "\u001b[1;32mc:\\Users\\Vania\\Documents\\GitHub\\Tarea2-Python\\Tarea2.ipynb Cell 5'\u001b[0m in \u001b[0;36m<cell line: 1>\u001b[1;34m()\u001b[0m\n\u001b[1;32m----> <a href='vscode-notebook-cell:/c%3A/Users/Vania/Documents/GitHub/Tarea2-Python/Tarea2.ipynb#ch0000004?line=0'>1</a>\u001b[0m \u001b[39mimport\u001b[39;00m \u001b[39mpandas\u001b[39;00m \u001b[39mas\u001b[39;00m \u001b[39mpd\u001b[39;00m\n\u001b[0;32m      <a href='vscode-notebook-cell:/c%3A/Users/Vania/Documents/GitHub/Tarea2-Python/Tarea2.ipynb#ch0000004?line=1'>2</a>\u001b[0m \u001b[39mimport\u001b[39;00m \u001b[39mnumpy\u001b[39;00m \u001b[39mas\u001b[39;00m \u001b[39mnp\u001b[39;00m\n",
      "\u001b[1;31mModuleNotFoundError\u001b[0m: No module named 'pandas'"
     ]
    }
   ],
   "source": [
    "import pandas as pd\n",
    "import numpy as np"
   ]
  },
  {
   "cell_type": "markdown",
   "metadata": {},
   "source": [
    "Ahora debemos leer el archivo para su posterior procesamiento."
   ]
  },
  {
   "cell_type": "code",
   "execution_count": null,
   "metadata": {},
   "outputs": [],
   "source": [
    "ubicacion = \"surveys.csv\"\n",
    "df = pd.read_csv(ubicacion)"
   ]
  },
  {
   "cell_type": "markdown",
   "metadata": {},
   "source": [
    "Si bien sabemos que tiene encaezado lo comprobaremos para efectos practicos de la tarea."
   ]
  },
  {
   "cell_type": "code",
   "execution_count": null,
   "metadata": {},
   "outputs": [
    {
     "name": "stdout",
     "output_type": "stream",
     "text": [
      "True\n"
     ]
    }
   ],
   "source": [
    "#Retorta True si posee encabezado y false en caso contrario\n",
    "Lista_de_columnas = df.columns.values.tolist()\n",
    "for x in range(len(Lista_de_columnas)):\n",
    "    if(Lista_de_columnas[x]!=x):\n",
    "        print(\"True\")\n",
    "        break"
   ]
  },
  {
   "cell_type": "markdown",
   "metadata": {},
   "source": [
    "Mostramos las primeras 10 linead del archivo"
   ]
  },
  {
   "cell_type": "code",
   "execution_count": 5,
   "metadata": {},
   "outputs": [
    {
     "ename": "NameError",
     "evalue": "name 'df' is not defined",
     "output_type": "error",
     "traceback": [
      "\u001b[1;31m---------------------------------------------------------------------------\u001b[0m",
      "\u001b[1;31mNameError\u001b[0m                                 Traceback (most recent call last)",
      "\u001b[1;32mc:\\Users\\Vania\\Documents\\GitHub\\Tarea2-Python\\Tarea2.ipynb Cell 11'\u001b[0m in \u001b[0;36m<cell line: 1>\u001b[1;34m()\u001b[0m\n\u001b[1;32m----> <a href='vscode-notebook-cell:/c%3A/Users/Vania/Documents/GitHub/Tarea2-Python/Tarea2.ipynb#ch0000009?line=0'>1</a>\u001b[0m df\u001b[39m.\u001b[39mhead(\u001b[39m10\u001b[39m)\n",
      "\u001b[1;31mNameError\u001b[0m: name 'df' is not defined"
     ]
    }
   ],
   "source": [
    "df.head(10)"
   ]
  },
  {
   "cell_type": "markdown",
   "metadata": {},
   "source": [
    "Si bien sabemos que tiene encaezado lo comprobaremos para efectos practicos de la tarea."
   ]
  },
  {
   "cell_type": "code",
   "execution_count": null,
   "metadata": {},
   "outputs": [],
   "source": [
    "# Retorta True si posee encabezado y false en caso contrario\n",
    "Lista_de_columnas = df.columns.values.tolist()\n",
    "for x in range(len(Lista_de_columnas)):\n",
    "    if(Lista_de_columnas[x]!=x):\n",
    "        print(\"True\")\n",
    "        break"
   ]
  },
  {
   "cell_type": "markdown",
   "metadata": {},
   "source": [
    "*Notamos que al archivo le faltan datos y estos parecen estar ya en formato NaN*"
   ]
  },
  {
   "cell_type": "markdown",
   "metadata": {},
   "source": [
    "Llamamos a la funcion *info()* para ver la informacion del dataframe"
   ]
  },
  {
   "cell_type": "code",
   "execution_count": null,
   "metadata": {},
   "outputs": [],
   "source": [
    "df.info()"
   ]
  },
  {
   "cell_type": "markdown",
   "metadata": {},
   "source": [
    "Observamos que el archivo contiene 35.549 estudios a animales, además,  a las columnas **species_id**, **sex**, **hindfoot_lenght** y **wreight** les faltan datos. Por otra parte, el tipo de dato de las columnas son representativos con sus valores a excepcion de la columna *plot_id* que representa un sitio en particular codificado en un numero, por lo que el numero es despreciable y para un mejor analisis el tipo de dato de la columna deberia ser object."
   ]
  },
  {
   "cell_type": "code",
   "execution_count": null,
   "metadata": {},
   "outputs": [],
   "source": [
    "df[[\"plot_id\"]] = df[[\"plot_id\"]].astype(\"object\")"
   ]
  },
  {
   "cell_type": "markdown",
   "metadata": {},
   "source": [
    "Ahora debemos rellenar los datos faltantes, para esto primero debemos saber cuantos son especificamente y que criterio vamos a usar para rellenar los datos.\n"
   ]
  },
  {
   "cell_type": "code",
   "execution_count": null,
   "metadata": {},
   "outputs": [],
   "source": [
    "datos_faltantes = df.isnull()\n",
    "for columna in datos_faltantes.columns.values.tolist():\n",
    "    print('columna:',columna)\n",
    "    print (datos_faltantes[columna].value_counts())\n",
    "    print(\"\")  "
   ]
  },
  {
   "cell_type": "markdown",
   "metadata": {},
   "source": [
    "Podemos extraer de la informacion anterior que faltan los siguientes datos:\n",
    "\n",
    "|          |species_id | sex | hindfoot_length | weight \n",
    "|----------|------------|-----|-----------------|-------\n",
    "**No-Null's** | 34786 |  33038 |  31438 |  32283\n",
    "**Null's** | 763 |  2511 |  4111 |  3266\n",
    "**Dtype** |int64 |  int64 |  int64 |  int64"
   ]
  },
  {
   "cell_type": "markdown",
   "metadata": {},
   "source": [
    "Ahora realizaremos un analisis de las columnas con datos faltantes llamando a la funcion *describe()*"
   ]
  },
  {
   "cell_type": "code",
   "execution_count": null,
   "metadata": {},
   "outputs": [],
   "source": [
    "df.describe(include = \"all\")"
   ]
  },
  {
   "cell_type": "markdown",
   "metadata": {},
   "source": []
  }
 ],
 "metadata": {
  "interpreter": {
   "hash": "b3ba2566441a7c06988d0923437866b63cedc61552a5af99d1f4fb67d367b25f"
  },
  "kernelspec": {
   "display_name": "Python 3.9.7 ('base')",
   "language": "python",
   "name": "python3"
  },
  "language_info": {
   "codemirror_mode": {
    "name": "ipython",
    "version": 3
   },
   "file_extension": ".py",
   "mimetype": "text/x-python",
   "name": "python",
   "nbconvert_exporter": "python",
   "pygments_lexer": "ipython3",
   "version": "3.8.10"
  },
  "orig_nbformat": 4
 },
 "nbformat": 4,
 "nbformat_minor": 2
}
